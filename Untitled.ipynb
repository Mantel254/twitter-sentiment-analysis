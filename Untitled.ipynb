{
 "cells": [
  {
   "cell_type": "code",
   "execution_count": 2,
   "id": "0dd4f456-5f4b-48a0-a39f-128181a21a11",
   "metadata": {},
   "outputs": [],
   "source": [
    "# Importing necessary libraries\n",
    "import pandas as pd\n",
    "import numpy as np\n",
    "from sklearn.model_selection import train_test_split\n",
    "from sklearn.preprocessing import LabelEncoder\n",
    "from tensorflow.keras.preprocessing.text import Tokenizer\n",
    "from tensorflow.keras.preprocessing.sequence import pad_sequences\n",
    "from tensorflow.keras.models import Sequential\n",
    "from tensorflow.keras.layers import Embedding, LSTM, Dense, Dropout"
   ]
  },
  {
   "cell_type": "code",
   "execution_count": 3,
   "id": "11c0d68f-5a9b-46f2-87d9-e96589e65291",
   "metadata": {},
   "outputs": [],
   "source": [
    "# Loading the dataset\n",
    "data = pd.read_csv('twitter_training.csv', names=['ID', 'Context', 'Sentiment', 'Tweet'])"
   ]
  },
  {
   "cell_type": "code",
   "execution_count": 4,
   "id": "9b576e72-08cf-4049-b9c4-9f22e5ccca40",
   "metadata": {},
   "outputs": [],
   "source": [
    "# Prepaing the dataset (Dropping unnecessary columns and renaming)\n",
    "data = data[['Tweet', 'Sentiment']]"
   ]
  },
  {
   "cell_type": "code",
   "execution_count": 5,
   "id": "42199de2-812b-4eee-a45f-b05b72995190",
   "metadata": {},
   "outputs": [],
   "source": [
    "#Encoding sentiment labels \n",
    "label_encoder = LabelEncoder()\n",
    "data['Sentiment'] = label_encoder.fit_transform(data['Sentiment'])"
   ]
  },
  {
   "cell_type": "code",
   "execution_count": 6,
   "id": "24d7e923-77dd-4200-bc44-dee202189a73",
   "metadata": {},
   "outputs": [],
   "source": [
    "# Ensuring that all values in the 'Tweet' column are strings\n",
    "data['Tweet'] = data['Tweet'].astype(str)\n",
    "\n",
    "# Handling missing values by replacing them with an empty string\n",
    "data['Tweet'].fillna('', inplace=True)\n",
    "\n",
    "# fitting the tokenizer again after cleaning the data\n",
    "max_words = 5000\n",
    "max_len = 200\n",
    "\n",
    "tokenizer = Tokenizer(num_words=max_words, oov_token=\"<OOV>\")\n",
    "tokenizer.fit_on_texts(data['Tweet'])\n",
    "\n",
    "# Converting the tweets to sequences and pad them\n",
    "X = tokenizer.texts_to_sequences(data['Tweet'])\n",
    "X = pad_sequences(X, maxlen=max_len)"
   ]
  },
  {
   "cell_type": "code",
   "execution_count": 7,
   "id": "b6d33693-5696-4ceb-91ae-a81456decc46",
   "metadata": {},
   "outputs": [],
   "source": [
    "# Defining the target variable (Sentiment)\n",
    "y = data['Sentiment'].values"
   ]
  },
  {
   "cell_type": "code",
   "execution_count": 8,
   "id": "a4353216-f364-4ac4-9ce1-9194c86fdb95",
   "metadata": {},
   "outputs": [],
   "source": [
    "# Splitting the data into training and testing sets\n",
    "X_train, X_test, y_train, y_test = train_test_split(X, y, test_size=0.2, random_state=42)"
   ]
  },
  {
   "cell_type": "code",
   "execution_count": 9,
   "id": "a272f286-ed69-4fba-9898-9433f093dbb6",
   "metadata": {},
   "outputs": [],
   "source": [
    "# Building the LSTM model for sentiment classification\n",
    "model = Sequential()\n",
    "\n",
    "# No need for `input_length` in the Embedding layer\n",
    "model.add(Embedding(input_dim=max_words, output_dim=64))  \n",
    "model.add(LSTM(64, return_sequences=True))\n",
    "model.add(Dropout(0.5))\n",
    "model.add(LSTM(64))\n",
    "model.add(Dropout(0.5))\n",
    "model.add(Dense(32, activation='relu'))\n",
    "model.add(Dense(4, activation='softmax'))  "
   ]
  },
  {
   "cell_type": "code",
   "execution_count": 10,
   "id": "a0d9fdf2-8140-469b-92e2-30302ffbf925",
   "metadata": {},
   "outputs": [],
   "source": [
    "# Compilling the model\n",
    "model.compile(loss='sparse_categorical_crossentropy', optimizer='adam', metrics=['accuracy'])"
   ]
  },
  {
   "cell_type": "code",
   "execution_count": 11,
   "id": "e870ac5a-c32b-4611-a576-eff7e312c33e",
   "metadata": {},
   "outputs": [
    {
     "name": "stdout",
     "output_type": "stream",
     "text": [
      "\u001b[1m1868/1868\u001b[0m \u001b[32m━━━━━━━━━━━━━━━━━━━━\u001b[0m\u001b[37m\u001b[0m \u001b[1m390s\u001b[0m 203ms/step - accuracy: 0.4986 - loss: 1.1466 - val_accuracy: 0.6673 - val_loss: 0.8332\n"
     ]
    }
   ],
   "source": [
    "# Training the model\n",
    "history = model.fit(X_train, y_train, epochs=1, validation_data=(X_test, y_test), batch_size=32)"
   ]
  },
  {
   "cell_type": "code",
   "execution_count": 12,
   "id": "ebc7755f-dc23-4124-90b0-faa32559c7da",
   "metadata": {},
   "outputs": [
    {
     "name": "stdout",
     "output_type": "stream",
     "text": [
      "\u001b[1m467/467\u001b[0m \u001b[32m━━━━━━━━━━━━━━━━━━━━\u001b[0m\u001b[37m\u001b[0m \u001b[1m36s\u001b[0m 76ms/step - accuracy: 0.6671 - loss: 0.8325\n",
      "Test Accuracy: 0.6673361659049988\n"
     ]
    }
   ],
   "source": [
    "# Evaluating the model\n",
    "test_loss, test_acc = model.evaluate(X_test, y_test)\n",
    "print(f'Test Accuracy: {test_acc}') "
   ]
  },
  {
   "cell_type": "code",
   "execution_count": 13,
   "id": "6d9c8464-db41-497b-ae1a-2d67cb145b35",
   "metadata": {},
   "outputs": [
    {
     "name": "stdout",
     "output_type": "stream",
     "text": [
      "\u001b[1m1/1\u001b[0m \u001b[32m━━━━━━━━━━━━━━━━━━━━\u001b[0m\u001b[37m\u001b[0m \u001b[1m1s\u001b[0m 813ms/step\n"
     ]
    }
   ],
   "source": [
    "# Predicting sentiment for new texts\n",
    "new_tweets = [\"I love this!\", \"This is terrible.\", \"It's okay.\"]\n",
    "sequences = tokenizer.texts_to_sequences(new_tweets)\n",
    "padded = pad_sequences(sequences, maxlen=max_len)\n",
    "predictions = model.predict(padded)"
   ]
  },
  {
   "cell_type": "code",
   "execution_count": 14,
   "id": "bc7f0a77-e344-4eab-a0e7-97c05acce4f3",
   "metadata": {},
   "outputs": [
    {
     "name": "stdout",
     "output_type": "stream",
     "text": [
      "Tweet: I love this! -> Sentiment: Positive\n",
      "Tweet: This is terrible. -> Sentiment: Negative\n",
      "Tweet: It's okay. -> Sentiment: Negative\n"
     ]
    }
   ],
   "source": [
    "# Display prediction\n",
    "for i, tweet in enumerate(new_tweets):\n",
    "    print(f'Tweet: {tweet} -> Sentiment: {label_encoder.inverse_transform([np.argmax(predictions[i])])[0]}')"
   ]
  },
  {
   "cell_type": "code",
   "execution_count": null,
   "id": "647cc958-6e58-4035-a884-13ca907f9d49",
   "metadata": {},
   "outputs": [],
   "source": []
  }
 ],
 "metadata": {
  "kernelspec": {
   "display_name": "Python 3 (ipykernel)",
   "language": "python",
   "name": "python3"
  },
  "language_info": {
   "codemirror_mode": {
    "name": "ipython",
    "version": 3
   },
   "file_extension": ".py",
   "mimetype": "text/x-python",
   "name": "python",
   "nbconvert_exporter": "python",
   "pygments_lexer": "ipython3",
   "version": "3.11.7"
  }
 },
 "nbformat": 4,
 "nbformat_minor": 5
}
